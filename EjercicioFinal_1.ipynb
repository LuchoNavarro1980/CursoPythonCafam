{
  "nbformat": 4,
  "nbformat_minor": 0,
  "metadata": {
    "colab": {
      "provenance": []
    },
    "kernelspec": {
      "name": "python3",
      "display_name": "Python 3"
    },
    "language_info": {
      "name": "python"
    }
  },
  "cells": [
    {
      "cell_type": "code",
      "execution_count": 2,
      "metadata": {
        "colab": {
          "base_uri": "https://localhost:8080/"
        },
        "id": "PA8dcMKPwASi",
        "outputId": "f5d436ca-49f0-4b0c-bca1-cb7b2953b60c"
      },
      "outputs": [
        {
          "output_type": "stream",
          "name": "stdout",
          "text": [
            "Opciones:\n",
            "1. Agregar producto\n",
            "2. Actualizar cantidad\n",
            "3. Mostrar inventario\n",
            "4. Salir\n",
            "Ingrese una opción: 1\n",
            "Ingrese el nombre del producto: azucar\n",
            "Ingrese la cantidad: 1\n",
            "Se ha agregado el producto azucar con una cantidad de 1.\n",
            "Opciones:\n",
            "1. Agregar producto\n",
            "2. Actualizar cantidad\n",
            "3. Mostrar inventario\n",
            "4. Salir\n",
            "Ingrese una opción: 3\n",
            "Inventario actual:\n",
            "azucar: 1\n",
            "Opciones:\n",
            "1. Agregar producto\n",
            "2. Actualizar cantidad\n",
            "3. Mostrar inventario\n",
            "4. Salir\n",
            "Ingrese una opción: 4\n",
            "¡Que vuelvas prontos!\n"
          ]
        }
      ],
      "source": [
        "#Diccionario\n",
        "inventario = {}  #para almacenar el inventario\n",
        "\n",
        "#Variables\n",
        "nombre = \"\"      # almacenar el nombre del producto\n",
        "cantidad = 0     # almacenar la cantidad del producto\n",
        "opcion = \"\"      # almacenar la opción seleccionada por el usuario\n",
        "\n",
        "#Funciones\n",
        "def agregar_producto(nombre, cantidad):\n",
        "    inventario[nombre] = cantidad\n",
        "    print(f\"Se ha agregado el producto {nombre} con una cantidad de {cantidad}.\")\n",
        "\n",
        "def actualizar_cantidad(nombre, nueva_cantidad):\n",
        "    if nombre in inventario:\n",
        "        inventario[nombre] = nueva_cantidad\n",
        "        print(f\"La cantidad de {nombre} se ha actualizado a {nueva_cantidad}.\")\n",
        "    else:\n",
        "        print(f\"El producto {nombre} no se encuentra en el inventario.\")\n",
        "\n",
        "def mostrar_inventario():\n",
        "    print(\"Inventario actual:\")\n",
        "    for producto, cantidad in inventario.items():\n",
        "        print(f\"{producto}: {cantidad}\")\n",
        "#Ciclo\n",
        "while True:\n",
        "    print(\"Opciones:\")\n",
        "    print(\"1. Agregar producto\")\n",
        "    print(\"2. Actualizar cantidad\")\n",
        "    print(\"3. Mostrar inventario\")\n",
        "    print(\"4. Salir\")\n",
        "\n",
        "    opcion = input(\"Ingrese una opción: \")\n",
        "\n",
        "    if opcion == \"1\":\n",
        "        nombre = input(\"Ingrese el nombre del producto: \")\n",
        "        cantidad = int(input(\"Ingrese la cantidad: \"))\n",
        "        agregar_producto(nombre, cantidad)\n",
        "    elif opcion == \"2\":\n",
        "        nombre = input(\"Ingrese el nombre del producto a actualizar: \")\n",
        "        nueva_cantidad = int(input(\"Ingrese la nueva cantidad: \"))\n",
        "        actualizar_cantidad(nombre, nueva_cantidad)\n",
        "    elif opcion == \"3\":\n",
        "        mostrar_inventario()\n",
        "    elif opcion == \"4\":\n",
        "        print(\"¡Que vuelvas prontos!\")\n",
        "        break\n",
        "    else:\n",
        "        print(\"Opción inválida.\")\n"
      ]
    }
  ]
}