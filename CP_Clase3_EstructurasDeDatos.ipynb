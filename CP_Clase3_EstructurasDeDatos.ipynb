{
  "nbformat": 4,
  "nbformat_minor": 0,
  "metadata": {
    "colab": {
      "provenance": []
    },
    "kernelspec": {
      "name": "python3",
      "display_name": "Python 3"
    },
    "language_info": {
      "name": "python"
    }
  },
  "cells": [
    {
      "cell_type": "markdown",
      "source": [
        "![images.png](data:image/png;base64,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)\n",
        "\n",
        "\n",
        "**ESTRUCTURAS DE DATOS**\n",
        "\n",
        "CURSO DE PYTHON\n",
        "\n",
        "DIRECCION DE EDUCACIÓN CONTINUA\n",
        "\n",
        "FUNDACION UNIVERSITARIA CAFAM\n",
        "\n",
        "DOCENTE: NICOLAS MOJICA GOMEZ\n",
        "\n",
        "ESTUDIANTE: **LUIS GONZALO NAVARRO**\n",
        "\n",
        "\n",
        "---\n",
        "\n"
      ],
      "metadata": {
        "id": "iTfIBHr6HKfx"
      }
    },
    {
      "cell_type": "markdown",
      "source": [
        "Contenido\n",
        "\n",
        "- Estructuras de datos\n",
        "- Listas\n",
        "- Tuplas\n",
        "- Diccionarios de datos\n",
        "- Ciclos\n",
        "- Asignaciones\n",
        "- Ejercicios"
      ],
      "metadata": {
        "id": "NlD9wTcHK998"
      }
    },
    {
      "cell_type": "markdown",
      "source": [
        "## **LISTAS**\n",
        "Las listas en Python son una de las estructuras de datos más utilizadas debido a su flexibilidad y capacidad para almacenar diferentes tipos de datos. Aquí te explico en detalle cómo funcionan las listas y cómo puedes utilizarlas.\n",
        "\n",
        "**¿Qué es una lista en Python?**\n",
        "\n",
        "Una lista en Python es una estructura de datos ordenada y mutable que puede contener una colección de elementos, como números, cadenas de texto, objetos, etc. Los elementos en una lista se mantienen en un orden específico, lo que significa que cada elemento tiene una posición o índice.\n",
        "\n",
        "\n",
        "**Características clave de las listas:**\n",
        "\n",
        "\n",
        "**Ordenadas:** Las listas mantienen el orden de inserción de los elementos. Si agregas elementos en un orden específico, se mantendrán en ese orden.\n",
        "\n",
        "\n",
        "**Mutables:** Puedes cambiar, agregar o eliminar elementos de una lista después de que ha sido creada. Esta capacidad de modificar las listas las hace muy flexibles.\n",
        "\n",
        "\n",
        "**Permiten duplicados:** Las listas pueden contener elementos duplicados. Es decir, puedes tener múltiples instancias del mismo valor en la lista.\n",
        "\n",
        "\n",
        "**Heterogéneas:** Una lista puede contener elementos de diferentes tipos de datos, como enteros, cadenas de texto, y otros objetos."
      ],
      "metadata": {
        "id": "oTbqnfPiJ9bO"
      }
    },
    {
      "cell_type": "code",
      "source": [
        "# Crear una lista vacía\n",
        "mi_lista = []\n",
        "\n",
        "# Crear una lista con algunos elementos\n",
        "mi_lista = [1, 2, 3, \"cuatro\", 5.0, True]"
      ],
      "metadata": {
        "id": "xDEz4JHcH3fp"
      },
      "execution_count": null,
      "outputs": []
    },
    {
      "cell_type": "markdown",
      "source": [
        "Acceder a elementos en una lista"
      ],
      "metadata": {
        "id": "M23akpgSKd8j"
      }
    },
    {
      "cell_type": "code",
      "source": [
        "mi_lista = [10, 20, 30, 40, 50]\n",
        "\n",
        "# Acceder al primer elemento\n",
        "print(mi_lista[0])  # Output: 10\n",
        "\n",
        "# Acceder al tercer elemento\n",
        "print(mi_lista[2])  # Output: 30\n",
        "\n",
        "# Acceder al último elemento\n",
        "print(mi_lista[-1])  # Output: 50\n"
      ],
      "metadata": {
        "colab": {
          "base_uri": "https://localhost:8080/"
        },
        "id": "x9SRCroaKgjg",
        "outputId": "a8e5b253-2744-484f-fc96-65465d9a2fe2"
      },
      "execution_count": null,
      "outputs": [
        {
          "output_type": "stream",
          "name": "stdout",
          "text": [
            "10\n",
            "30\n",
            "50\n"
          ]
        }
      ]
    },
    {
      "cell_type": "markdown",
      "source": [
        "Modificar una lista"
      ],
      "metadata": {
        "id": "YCA604fMCV65"
      }
    },
    {
      "cell_type": "code",
      "source": [
        "mi_lista = [10, 20, 30, 40, 50]\n",
        "\n",
        "# Cambiar el segundo elemento\n",
        "mi_lista[1] = 25\n",
        "\n",
        "print(mi_lista)  # Output: [10, 25, 30, 40, 50]\n"
      ],
      "metadata": {
        "id": "auJVUdCVRrSq",
        "colab": {
          "base_uri": "https://localhost:8080/"
        },
        "outputId": "3351abde-5c29-4bd1-a368-7d8798ce2681"
      },
      "execution_count": null,
      "outputs": [
        {
          "output_type": "stream",
          "name": "stdout",
          "text": [
            "[10, 25, 30, 40, 50]\n"
          ]
        }
      ]
    },
    {
      "cell_type": "markdown",
      "source": [
        "Agregar elementos a la lista*"
      ],
      "metadata": {
        "id": "fKbERNEtCU9G"
      }
    },
    {
      "cell_type": "code",
      "source": [
        "mi_lista = [1, 2, 3]\n",
        "\n",
        "# Agregar un elemento al final de la lista\n",
        "mi_lista.append(4)\n",
        "print(mi_lista)  # Output: [1, 2, 3, 4]\n",
        "\n",
        "# Insertar un elemento en una posición específica\n",
        "mi_lista.insert(1, 1.5)\n",
        "print(mi_lista)  # Output: [1, 1.5, 2, 3, 4]\n",
        "\n",
        "# Agregar varios elementos al final de la lista\n",
        "mi_lista.extend([5, 6])\n",
        "print(mi_lista)  # Output: [1, 1.5, 2, 3, 4, 5, 6]\n"
      ],
      "metadata": {
        "colab": {
          "base_uri": "https://localhost:8080/"
        },
        "id": "FDJre-tiSEsd",
        "outputId": "6868e1ca-7ec6-4284-f422-b5fac05d80cb"
      },
      "execution_count": null,
      "outputs": [
        {
          "output_type": "stream",
          "name": "stdout",
          "text": [
            "[1, 2, 3, 4]\n",
            "[1, 1.5, 2, 3, 4]\n",
            "[1, 1.5, 2, 3, 4, 5, 6]\n"
          ]
        }
      ]
    },
    {
      "cell_type": "markdown",
      "source": [
        "Eliminar elementos de las listas"
      ],
      "metadata": {
        "id": "7ubAIPo6CuTN"
      }
    },
    {
      "cell_type": "code",
      "source": [
        "mi_lista = [10, 20, 30, 40, 50]\n",
        "\n",
        "# Eliminar un elemento específico\n",
        "mi_lista.remove(30)\n",
        "print(mi_lista)  # Output: [10, 20, 40, 50]\n",
        "\n",
        "# Eliminar el último elemento\n",
        "mi_lista.pop()\n",
        "print(mi_lista)  # Output: [10, 20, 40]\n",
        "\n",
        "# Eliminar un elemento en una posición específica\n",
        "del mi_lista[1]\n",
        "print(mi_lista)  # Output: [10, 40]"
      ],
      "metadata": {
        "colab": {
          "base_uri": "https://localhost:8080/"
        },
        "id": "zvtRW1-jSpFt",
        "outputId": "ccf2b4b8-7290-4d81-a0a9-2323cc25e785"
      },
      "execution_count": null,
      "outputs": [
        {
          "output_type": "stream",
          "name": "stdout",
          "text": [
            "[10, 20, 40, 50]\n",
            "[10, 20, 40]\n",
            "[10, 40]\n"
          ]
        }
      ]
    },
    {
      "cell_type": "markdown",
      "source": [
        "Slicing (Rebanado) de listas\n",
        "El slicing te permite obtener una sublista de la lista original utilizando la notación [inicio:fin]."
      ],
      "metadata": {
        "id": "Wqa1M_A1DDXh"
      }
    },
    {
      "cell_type": "code",
      "source": [
        "mi_lista = [10, 20, 30, 40, 50]\n",
        "\n",
        "# Obtener los primeros tres elementos\n",
        "print(mi_lista[0:3])  # Output: [10, 20, 30]\n",
        "\n",
        "# Obtener los últimos dos elementos\n",
        "print(mi_lista[-2:])  # Output: [40, 50]\n",
        "\n",
        "# Obtener una copia completa de la lista\n",
        "print(mi_lista[:])  # Output: [10, 20, 30, 40, 50]\n"
      ],
      "metadata": {
        "colab": {
          "base_uri": "https://localhost:8080/"
        },
        "id": "x5A1kRagDKg1",
        "outputId": "01bc3307-a51b-4102-a106-9873195dd986"
      },
      "execution_count": null,
      "outputs": [
        {
          "output_type": "stream",
          "name": "stdout",
          "text": [
            "[10, 20, 30]\n",
            "[40, 50]\n",
            "[10, 20, 30, 40, 50]\n"
          ]
        }
      ]
    },
    {
      "cell_type": "code",
      "source": [
        "\"\"\"\n",
        "Ejercicio 1: Crear y Modificar una Lista\n",
        "\n",
        "Crea una lista llamada numeros que contenga los números del 1 al 10.\n",
        "\n",
        "Modifica el tercer elemento de la lista para que sea el número 100.\n",
        "\n",
        "Añade el número 11 al final de la lista.\n",
        "\n",
        "Inserta el número 50 en la posición 5.\n",
        "\n",
        "Elimina el primer elemento de la lista.\n",
        "\n",
        "Imprime la lista final.\n",
        "\n",
        "\n",
        "Ejercicio 2: Slicing de Listas\n",
        "\n",
        "Crea una lista llamada letras que contenga las primeras 10 letras del alfabeto (de la 'a' a la 'j').\n",
        "\n",
        "Usa slicing para obtener las primeras 3 letras y guárdalas en una nueva lista llamada primeras_tres.\n",
        "\n",
        "Usa slicing para obtener las últimas 4 letras y guárdalas en una nueva lista llamada ultimas_cuatro.\n",
        "\n",
        "Usa slicing para invertir el orden de la lista letras y guárdala en una lista llamada letras_invertidas.\n",
        "\n",
        "Imprime las listas primeras_tres, ultimas_cuatro y letras_invertidas.\"\"\""
      ],
      "metadata": {
        "id": "yw-umU7-DjHG"
      },
      "execution_count": null,
      "outputs": []
    },
    {
      "cell_type": "markdown",
      "source": [
        "# **TUPLAS**\n",
        "Las tuplas en Python son una estructura de datos que permite almacenar una secuencia de elementos, similar a las listas, pero con una diferencia clave: las tuplas son inmutables. Esto significa que, una vez que una tupla se ha creado, no se pueden modificar sus elementos.\n",
        "\n",
        "**Características principales de las tuplas:**\n",
        "\n",
        "**Inmutabilidad:**No puedes cambiar, agregar o eliminar elementos de una tupla una vez que se ha creado. Esto las hace útiles para almacenar datos que no deben cambiar a lo largo del programa.\n",
        "\n",
        "**Ordenadas:** Al igual que las listas, las tuplas mantienen el orden de los elementos, lo que significa que cada elemento tiene un índice específico.\n",
        "\n",
        "**Heterogéneas:** Una tupla puede contener elementos de diferentes tipos de datos, como números, cadenas de texto, listas, etc.\n",
        "\n",
        "**Permiten duplicados:** Las tuplas pueden contener elementos duplicados."
      ],
      "metadata": {
        "id": "BlAXmUybK1jr"
      }
    },
    {
      "cell_type": "code",
      "source": [
        "# Crear una tupla con paréntesis\n",
        "mi_tupla = (1, 2, 3, \"cuatro\", 5.0)\n",
        "\n",
        "# Crear una tupla sin paréntesis\n",
        "mi_tupla = 1, 2, 3, \"cuatro\", 5.0\n",
        "\n",
        "# Crear una tupla vacía\n",
        "tupla_vacia = ()\n",
        "\n",
        "# Crear una tupla de un solo elemento (se necesita la coma)\n",
        "una_tupla = (1,)"
      ],
      "metadata": {
        "id": "7ry7LG6vOCTN",
        "colab": {
          "base_uri": "https://localhost:8080/"
        },
        "outputId": "ea9e73d1-e4e8-4eac-d7d6-c7cbd1956d1b"
      },
      "execution_count": null,
      "outputs": [
        {
          "output_type": "stream",
          "name": "stdout",
          "text": [
            "Hola, Juan!\n"
          ]
        }
      ]
    },
    {
      "cell_type": "markdown",
      "source": [
        "Acceder elementos de la TUPLA"
      ],
      "metadata": {
        "id": "ViZV4IrcW11Y"
      }
    },
    {
      "cell_type": "code",
      "source": [
        "mi_tupla = (10, 20, 30, 40, 50)\n",
        "\n",
        "# Acceder al primer elemento\n",
        "print(mi_tupla[0])  # Output: 10\n",
        "\n",
        "# Acceder al tercer elemento\n",
        "print(mi_tupla[2])  # Output: 30\n",
        "\n",
        "# Acceder al último elemento\n",
        "print(mi_tupla[-1])  # Output: 50"
      ],
      "metadata": {
        "colab": {
          "base_uri": "https://localhost:8080/"
        },
        "id": "6Ztxr_9SWw7B",
        "outputId": "50d5dcd5-b25b-49b4-e139-a134c13e1c6f"
      },
      "execution_count": null,
      "outputs": [
        {
          "output_type": "stream",
          "name": "stdout",
          "text": [
            "10\n",
            "30\n",
            "50\n"
          ]
        }
      ]
    },
    {
      "cell_type": "code",
      "source": [
        "mi_tupla = (10, 20, 30)\n",
        "\n",
        "a, b, c = mi_tupla\n",
        "\n",
        "print(a)  # Output: 10\n",
        "print(b)  # Output: 20\n",
        "print(c)  # Output: 30\n"
      ],
      "metadata": {
        "id": "3Nt0aEB3GUkT"
      },
      "execution_count": null,
      "outputs": []
    },
    {
      "cell_type": "markdown",
      "source": [
        "# **DICCIONARIOS DE DATOS**\n",
        "\n",
        "En Python, los diccionarios son una estructura de datos muy versátil y útil. Son colecciones no ordenadas de pares clave-valor, donde cada clave es única y se asocia a un valor. Aquí te explico los aspectos básicos y algunas características avanzadas:"
      ],
      "metadata": {
        "id": "0GZobliHKrYO"
      }
    },
    {
      "cell_type": "code",
      "source": [
        "mi_diccionario = {\n",
        "    'nombre': 'Ana',\n",
        "    'edad': 30,\n",
        "    'ciudad': 'Madrid'\n",
        "}\n"
      ],
      "metadata": {
        "id": "5_GSQ-guK57_"
      },
      "execution_count": null,
      "outputs": []
    },
    {
      "cell_type": "markdown",
      "source": [
        "Agregar elemento a la lista:"
      ],
      "metadata": {
        "id": "ATnL0VuqSvTu"
      }
    },
    {
      "cell_type": "code",
      "source": [
        "# Diccionario para el inventario\n",
        "inventario = {}\n",
        "\n",
        "# Agregar un nuevo producto al inventario\n",
        "inventario[\"manzanas\"] = 50\n",
        "inventario[\"naranjas\"] = 30\n",
        "\n",
        "print(inventario)\n"
      ],
      "metadata": {
        "id": "RGT3adNKSy5Q"
      },
      "execution_count": null,
      "outputs": []
    },
    {
      "cell_type": "markdown",
      "source": [
        "Acceso a los elementos"
      ],
      "metadata": {
        "id": "BInxffi5LZkl"
      }
    },
    {
      "cell_type": "code",
      "source": [
        "mi_diccionario = {\n",
        "    'nombre': 'Ana',\n",
        "    'edad': 30,\n",
        "    'ciudad': 'Madrid'\n",
        "}\n",
        "print(mi_diccionario['nombre'])  # Output: Ana"
      ],
      "metadata": {
        "colab": {
          "base_uri": "https://localhost:8080/"
        },
        "id": "OSwH0SWVK7f-",
        "outputId": "701b638f-c32e-4488-8248-99568475f4aa"
      },
      "execution_count": null,
      "outputs": [
        {
          "output_type": "stream",
          "name": "stdout",
          "text": [
            "Ana\n"
          ]
        }
      ]
    },
    {
      "cell_type": "markdown",
      "source": [
        "Modificacion de los elementos"
      ],
      "metadata": {
        "id": "SIWOQpzoLkYC"
      }
    },
    {
      "cell_type": "code",
      "source": [
        "mi_diccionario['edad'] = 31"
      ],
      "metadata": {
        "id": "_qFjIprkLb8D"
      },
      "execution_count": null,
      "outputs": []
    },
    {
      "cell_type": "markdown",
      "source": [
        "Elminacion de los elementos"
      ],
      "metadata": {
        "id": "UNd8V8TeMm0A"
      }
    },
    {
      "cell_type": "code",
      "source": [
        "del mi_diccionario['ciudad']"
      ],
      "metadata": {
        "id": "j7HTBkqFMtxV"
      },
      "execution_count": null,
      "outputs": []
    },
    {
      "cell_type": "markdown",
      "source": [
        "## **OPERADORES COMPUESTOS**\n"
      ],
      "metadata": {
        "id": "eGDGYle8neTT"
      }
    },
    {
      "cell_type": "code",
      "source": [
        "# 1. Operador de Asignación Básico:\n",
        "x = 5  # Asigna el valor 5 a la variable x\n",
        "\n",
        "# 2. += (Suma y Asigna):\n",
        "x += 3  # Equivale a x = x + 3\n",
        "\n",
        "# 3. -= (Resta y Asigna):\n",
        "x -= 2  # Equivale a x = x - 2\n",
        "\n",
        "# 4. *= (Multiplica y Asigna):\n",
        "x *= 3  # Equivale a x = x * 3\n",
        "\n",
        "# 5. /= (Divide y Asigna):\n",
        "x /= 2  # Equivale a x = x / 2\n",
        "\n",
        "# 6. %= (Módulo y Asigna):\n",
        "x %= 3  # Equivale a x = x % 3\n",
        "\n",
        "# 7. **= (Potencia y Asigna):\n",
        "x **= 3  # Equivale a x = x ** 3\n",
        "\n",
        "# 8. //= (División Entera y Asigna):\n",
        "x //= 3  # Equivale a x = x // 3\n",
        "\n",
        "# 9. &= (AND bit a bit y Asigna):\n",
        "x &= 3  # Equivale a x = x & 3\n",
        "\n",
        "# 10. |= (OR bit a bit y Asigna):\n",
        "x |= 2  # Equivale a x = x | 2\n",
        "\n",
        "# 11. ^= (XOR bit a bit y Asigna):\n",
        "x ^= 3  # Equivale a x = x ^ 3\n",
        "\n",
        "# 12. <<= (Desplazamiento a la izquierda y Asigna):\n",
        "x <<= 1  # Equivale a x = x << 1\n",
        "\n",
        "# 13. >>= (Desplazamiento a la derecha y Asigna):\n",
        "x >>= 1  # Equivale a x = x >> 1\n"
      ],
      "metadata": {
        "id": "B5LuQ9gpoaly"
      },
      "execution_count": null,
      "outputs": []
    },
    {
      "cell_type": "markdown",
      "source": [
        "## **CICLOS**"
      ],
      "metadata": {
        "id": "ZU_UlNVPGQao"
      }
    },
    {
      "cell_type": "markdown",
      "source": [
        "1. Bucle for\n",
        "El bucle for se utiliza para iterar sobre una secuencia (como una lista, tupla, diccionario, conjunto o cadena de caracteres). Se ejecuta una vez por cada elemento en la secuencia."
      ],
      "metadata": {
        "id": "Jowb9KGkGwqf"
      }
    },
    {
      "cell_type": "code",
      "source": [
        "secuencia = [1, 2, 3, 4, 5]\n",
        "for variable in secuencia:\n",
        "    # Código a ejecutar"
      ],
      "metadata": {
        "id": "VKTWPdHGGxH1"
      },
      "execution_count": null,
      "outputs": []
    },
    {
      "cell_type": "code",
      "source": [
        "# Iterar sobre una lista de números\n",
        "numeros = [1, 2, 3, 4, 5]\n",
        "for num in numeros:\n",
        "    print(num)"
      ],
      "metadata": {
        "id": "2F53t3_KG9ro",
        "colab": {
          "base_uri": "https://localhost:8080/"
        },
        "outputId": "80f8509f-b931-4b34-cacc-1a6dbec04496"
      },
      "execution_count": null,
      "outputs": [
        {
          "output_type": "stream",
          "name": "stdout",
          "text": [
            "1\n",
            "2\n",
            "3\n",
            "4\n",
            "5\n"
          ]
        }
      ]
    },
    {
      "cell_type": "markdown",
      "source": [
        "2. Bucle while\n",
        "El bucle while se utiliza para repetir un bloque de código mientras una condición sea verdadera."
      ],
      "metadata": {
        "id": "hyKqz6BiG2xC"
      }
    },
    {
      "cell_type": "code",
      "source": [
        "while #condicion:\n",
        "    # Código a ejecutar"
      ],
      "metadata": {
        "id": "WmD3if9OHFFR"
      },
      "execution_count": null,
      "outputs": []
    },
    {
      "cell_type": "code",
      "source": [
        "# Contador simple\n",
        "contador = 0\n",
        "while contador < 5:\n",
        "    print(contador)\n",
        "    contador += 1"
      ],
      "metadata": {
        "id": "H3sfE7KoHNPW",
        "colab": {
          "base_uri": "https://localhost:8080/"
        },
        "outputId": "edf2a77d-f72f-4dd3-8050-23bbce236b88"
      },
      "execution_count": null,
      "outputs": [
        {
          "output_type": "stream",
          "name": "stdout",
          "text": [
            "0\n",
            "1\n",
            "2\n",
            "3\n",
            "4\n"
          ]
        }
      ]
    },
    {
      "cell_type": "markdown",
      "source": [
        "3. Declaraciones adicionales en bucles\n",
        "\n",
        "\n",
        "break: Sale del bucle antes de que se evalúe la condición o se termine de iterar sobre la secuencia.\n",
        "\n",
        "continue: Salta el resto del código dentro del bucle y vuelve a la condición o a la siguiente iteración.\n",
        "\n",
        "\n",
        "else: Se ejecuta una vez cuando el bucle termina, a menos que se haya interrumpido con break."
      ],
      "metadata": {
        "id": "99XlnyrCHckf"
      }
    },
    {
      "cell_type": "code",
      "source": [
        "for i in range(10):\n",
        "    if i == 5:\n",
        "        break\n",
        "    print(i)"
      ],
      "metadata": {
        "id": "UtJiEfEZHdH1",
        "colab": {
          "base_uri": "https://localhost:8080/"
        },
        "outputId": "8932311a-c640-40b2-9dd0-fa9a23418077"
      },
      "execution_count": null,
      "outputs": [
        {
          "output_type": "stream",
          "name": "stdout",
          "text": [
            "0\n",
            "1\n",
            "2\n",
            "3\n",
            "4\n"
          ]
        }
      ]
    },
    {
      "cell_type": "code",
      "source": [
        "for i in range(10):\n",
        "    if i % 2 == 0:\n",
        "        continue\n",
        "    print(i)"
      ],
      "metadata": {
        "id": "gNF_SqryHob3"
      },
      "execution_count": null,
      "outputs": []
    },
    {
      "cell_type": "markdown",
      "source": [
        "Supongamos que tienes una lista de precios de productos y quieres aplicar un descuento del 10% a cada precio.\n"
      ],
      "metadata": {
        "id": "bzlTyI4UIIXB"
      }
    },
    {
      "cell_type": "code",
      "source": [
        "precios = [100, 150, 200, 250, 300]\n",
        "precios_con_descuento = []\n",
        "\n",
        "for precio in precios:\n",
        "    nuevo_precio = precio * 0.9\n",
        "    precios_con_descuento.append(nuevo_precio)\n",
        "\n",
        "print(precios_con_descuento)"
      ],
      "metadata": {
        "id": "LDuwE6GdIMSV"
      },
      "execution_count": null,
      "outputs": []
    },
    {
      "cell_type": "markdown",
      "source": [
        "Supongamos que quieres solicitar a un usuario que ingrese una contraseña hasta que lo haga correctamente."
      ],
      "metadata": {
        "id": "Fq56a6R_ISFI"
      }
    },
    {
      "cell_type": "code",
      "source": [
        "contraseña_correcta = \"segura123\"\n",
        "intentos = 3\n",
        "\n",
        "while intentos > 0:\n",
        "    contraseña = input(\"Introduce tu contraseña: \")\n",
        "    if contraseña == contraseña_correcta:\n",
        "        print(\"¡Acceso concedido!\")\n",
        "        break\n",
        "    else:\n",
        "        intentos -= 1\n",
        "        print(f\"Contraseña incorrecta. Te quedan {intentos} intentos.\")\n",
        "\n",
        "if intentos == 0:\n",
        "    print(\"Has excedido el número de intentos. Acceso denegado.\")\n"
      ],
      "metadata": {
        "id": "EOaUoPm-IRfF"
      },
      "execution_count": null,
      "outputs": []
    },
    {
      "cell_type": "markdown",
      "source": [
        "Ejercicios"
      ],
      "metadata": {
        "id": "J52oCLCDcHse"
      }
    },
    {
      "cell_type": "markdown",
      "source": [
        "**Ejercicio 1:**\n",
        "\n",
        "Suma de Números Pares (Bucle for)\n",
        "\n",
        "**Descripción:**\n",
        "Escribe un programa que sume todos los números pares del 1 al 100 e imprima el resultado.\n",
        "\n",
        "**Instrucciones:**\n",
        "\n",
        "Utiliza un bucle for para recorrer los números del 1 al 100.\n",
        "Suma solo aquellos números que sean pares.\n",
        "Imprime la suma total."
      ],
      "metadata": {
        "id": "qHdLeYTwhnyN"
      }
    },
    {
      "cell_type": "code",
      "source": [
        "suma_pares = 0\n",
        "\n",
        "for numero in range(1, 101):\n",
        "    if numero % 2 == 0:\n",
        "        suma_pares += numero\n",
        "\n",
        "print(\"La suma de los números pares del 1 al 100 es:\", suma_pares)"
      ],
      "metadata": {
        "id": "n9wUzsn8cI5V",
        "colab": {
          "base_uri": "https://localhost:8080/"
        },
        "outputId": "0ac9f1c9-bd8e-483a-ac51-2ab973778bdd"
      },
      "execution_count": null,
      "outputs": [
        {
          "output_type": "stream",
          "name": "stdout",
          "text": [
            "La suma de los números pares del 1 al 100 es: 2550\n"
          ]
        }
      ]
    },
    {
      "cell_type": "markdown",
      "source": [
        "**Ejercicio 2: Adivina el Número (Bucle while)**\n",
        "\n",
        "**Descripción:**\n",
        "\n",
        "Escribe un programa que permita al usuario adivinar un número secreto entre 1 y 10. El programa debe seguir pidiendo al usuario que adivine hasta que acierte.\n",
        "\n",
        "**Instrucciones:**\n",
        "\n",
        "Define un número secreto.\n",
        "\n",
        "Utiliza un bucle while para seguir solicitando adivinanzas al usuario hasta que acierte.\n",
        "\n",
        "Si el usuario adivina el número, imprime un mensaje de felicitación y termina el programa."
      ],
      "metadata": {
        "id": "tyDUUeCFkmvR"
      }
    },
    {
      "cell_type": "code",
      "source": [
        "import random\n",
        "\n",
        "numero_secreto = random.randint(1, 10)\n",
        "\n",
        "while True:\n",
        "    adivinanza = int(input(\"Adivina el número (entre 1 y 10): \"))\n",
        "\n",
        "    if adivinanza == numero_secreto:\n",
        "        print(\"¡Felicidades! Adivinaste el número.\")\n",
        "        break\n",
        "    else:\n",
        "        print(\"¡Incorrecto! Intenta nuevamente.\")"
      ],
      "metadata": {
        "id": "n6D1wHK2kmYs",
        "colab": {
          "base_uri": "https://localhost:8080/"
        },
        "outputId": "fad1faaa-d498-467e-ecf5-28554a6f2d09"
      },
      "execution_count": 1,
      "outputs": [
        {
          "output_type": "stream",
          "name": "stdout",
          "text": [
            "Adivina el número (entre 1 y 10): 1\n",
            "¡Incorrecto! Intenta nuevamente.\n",
            "Adivina el número (entre 1 y 10): 5\n",
            "¡Incorrecto! Intenta nuevamente.\n",
            "Adivina el número (entre 1 y 10): 2\n",
            "¡Incorrecto! Intenta nuevamente.\n",
            "Adivina el número (entre 1 y 10): 3\n",
            "¡Incorrecto! Intenta nuevamente.\n",
            "Adivina el número (entre 1 y 10): 4\n",
            "¡Felicidades! Adivinaste el número.\n"
          ]
        }
      ]
    },
    {
      "cell_type": "markdown",
      "source": [
        "**Ejercicio 3: Tabla de Multiplicar (Bucle for y while)**\n",
        "\n",
        "**Descripción:**\n",
        "\n",
        "Escribe un programa que genere la tabla de multiplicar de un número ingresado por el usuario. El programa debe continuar pidiendo un número hasta que el usuario ingrese 0.\n",
        "\n",
        "**Instrucciones:**\n",
        "\n",
        "Utiliza un bucle while para pedir un número al usuario.\n",
        "\n",
        "Si el número es diferente de 0, usa un bucle for para imprimir la tabla de multiplicar de ese número.\n",
        "\n",
        "Si el usuario ingresa 0, termina el programa."
      ],
      "metadata": {
        "id": "_BEFlYAUlaP9"
      }
    },
    {
      "cell_type": "code",
      "source": [
        "while True:\n",
        "    numero = int(input(\"Ingrese un número (0 para salir): \"))\n",
        "\n",
        "    if numero == 0:\n",
        "        print(\"¡Hasta luego!\")\n",
        "        break\n",
        "\n",
        "    for i in range(1, 11):\n",
        "        resultado = numero * i\n",
        "        print(f\"{numero} x {i} = {resultado}\")"
      ],
      "metadata": {
        "id": "y3gPuI3blmyv",
        "colab": {
          "base_uri": "https://localhost:8080/"
        },
        "outputId": "d1c1d6f5-27f0-4bdf-8103-5fc9d46d7268"
      },
      "execution_count": null,
      "outputs": [
        {
          "output_type": "stream",
          "name": "stdout",
          "text": [
            "Ingrese un número (0 para salir): 2\n",
            "2 x 1 = 2\n",
            "2 x 2 = 4\n",
            "2 x 3 = 6\n",
            "2 x 4 = 8\n",
            "2 x 5 = 10\n",
            "2 x 6 = 12\n",
            "2 x 7 = 14\n",
            "2 x 8 = 16\n",
            "2 x 9 = 18\n",
            "2 x 10 = 20\n",
            "Ingrese un número (0 para salir): 1\n",
            "1 x 1 = 1\n",
            "1 x 2 = 2\n",
            "1 x 3 = 3\n",
            "1 x 4 = 4\n",
            "1 x 5 = 5\n",
            "1 x 6 = 6\n",
            "1 x 7 = 7\n",
            "1 x 8 = 8\n",
            "1 x 9 = 9\n",
            "1 x 10 = 10\n",
            "Ingrese un número (0 para salir): 0\n",
            "¡Hasta luego!\n"
          ]
        }
      ]
    },
    {
      "cell_type": "markdown",
      "source": [
        "**Ejercicio 4:**\n",
        "\n",
        "Contador de Vocales en una Frase (Bucle for)\n",
        "\n",
        "**Descripción:**\n",
        "\n",
        "Escribe un programa que cuente el número de vocales en una frase ingresada por el usuario.\n",
        "\n",
        "**Instrucciones:**\n",
        "\n",
        "Pide al usuario que ingrese una frase.\n",
        "\n",
        "Utiliza un bucle for para recorrer cada carácter de la frase.\n",
        "\n",
        "Cuenta cuántas veces aparecen las vocales (a, e, i, o, u) y muestra el\n",
        "\n",
        "resultado.\n"
      ],
      "metadata": {
        "id": "Yo3ma6uKlobt"
      }
    },
    {
      "cell_type": "code",
      "source": [
        "frase = input(\"Ingrese una frase: \")\n",
        "vocales = \"aeiouAEIOU\"\n",
        "contador_vocales = 0\n",
        "\n",
        "for caracter in frase:\n",
        "    if caracter in vocales:\n",
        "        contador_vocales += 1\n",
        "\n",
        "print(\"La frase tiene\", contador_vocales, \"vocales.\")"
      ],
      "metadata": {
        "id": "8_kakJr_mWwo",
        "colab": {
          "base_uri": "https://localhost:8080/"
        },
        "outputId": "0ea4783c-038a-4773-8736-1b689895935c"
      },
      "execution_count": null,
      "outputs": [
        {
          "output_type": "stream",
          "name": "stdout",
          "text": [
            "Ingrese una frase: la vida\n",
            "La frase tiene 3 vocales.\n"
          ]
        }
      ]
    }
  ]
}