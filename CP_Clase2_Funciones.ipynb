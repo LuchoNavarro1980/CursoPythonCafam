{
  "nbformat": 4,
  "nbformat_minor": 0,
  "metadata": {
    "colab": {
      "provenance": []
    },
    "kernelspec": {
      "name": "python3",
      "display_name": "Python 3"
    },
    "language_info": {
      "name": "python"
    }
  },
  "cells": [
    {
      "cell_type": "markdown",
      "source": [
        "![images.png](data:image/png;base64,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)\n",
        "\n",
        "\n",
        "**CONDICIONALES, FUNCIONES Y MANEJO DE ERRORES**\n",
        "\n",
        "CURSO DE PYTHON\n",
        "\n",
        "DIRECCION DE EDUCACIÓN CONTINUA\n",
        "\n",
        "FUNDACION UNIVERSITARIA CAFAM\n",
        "\n",
        "DOCENTE: NICOLAS MOJICA GOMEZ\n",
        "\n",
        "ESTUDIANTE: **LUIS GONZALO NAVARRO**\n",
        "\n",
        "\n",
        "---\n",
        "\n"
      ],
      "metadata": {
        "id": "iTfIBHr6HKfx"
      }
    },
    {
      "cell_type": "markdown",
      "source": [
        "Contenido\n",
        "\n",
        "- Condicionales\n",
        "- Componentes de las condicionales\n",
        "- Ejemplos de las condicionales\n",
        "- Ejercicios de las Condicionales\n",
        "- Funciones\n",
        "- Componentes de las funciones\n",
        "- Ejemplos de las funciones\n",
        "- Errores\n",
        "- Componentes de los errores\n",
        "- Ejemplos de manejo de errores\n"
      ],
      "metadata": {
        "id": "NlD9wTcHK998"
      }
    },
    {
      "cell_type": "markdown",
      "source": [
        "## **CONDICIONALES**\n",
        "Las condicionales en Python permiten tomar decisiones en el código basadas en ciertas condiciones. Son fundamentales para controlar el flujo de ejecución y ejecutar diferentes bloques de código según se cumplan o no ciertas condiciones.\n",
        "\n",
        "**Estructura Básica**\n",
        "\n",
        "\n",
        "Las estructuras condicionales en Python se basan en las sentencias if, elif y else.\n",
        "\n",
        "**Sentencia if:**\n",
        "\n",
        "Se utiliza para evaluar una condición.\n",
        "Si la condición es verdadera, el bloque de código correspondiente se ejecuta.\n",
        "\n",
        "**Sentencia elif (opcional):**\n",
        "\n",
        "**Significa \"else if\"**\n",
        "\n",
        "\n",
        "Se usa para evaluar múltiples condiciones cuando la condición inicial del if no es verdadera.\n",
        "Puede haber múltiples sentencias elif.\n",
        "\n",
        "**Sentencia else (opcional):**\n",
        "\n",
        "Se ejecuta si ninguna de las condiciones anteriores (if y elif) es verdadera.\n",
        "No lleva condición, solo el bloque de código que se ejecutará si todas las condiciones previas fallan."
      ],
      "metadata": {
        "id": "oTbqnfPiJ9bO"
      }
    },
    {
      "cell_type": "code",
      "source": [
        "# Este es un comentario de una sola línea\n",
        "print(\"Hola, mundo\")  # Este es otro comentario de una sola línea"
      ],
      "metadata": {
        "colab": {
          "base_uri": "https://localhost:8080/"
        },
        "id": "xDEz4JHcH3fp",
        "outputId": "2c9aff63-3006-412b-9794-b598910fd55f"
      },
      "execution_count": null,
      "outputs": [
        {
          "output_type": "stream",
          "name": "stdout",
          "text": [
            "Hola, mundo\n"
          ]
        }
      ]
    },
    {
      "cell_type": "markdown",
      "source": [
        "Ejemplo:"
      ],
      "metadata": {
        "id": "M23akpgSKd8j"
      }
    },
    {
      "cell_type": "code",
      "source": [
        "edad = 18\n",
        "\n",
        "if edad < 18:\n",
        "    print(\"Eres menor de edad.\")\n",
        "elif edad == 18:\n",
        "    print(\"Acabas de cumplir la mayoría de edad.\")\n",
        "else:\n",
        "    print(\"Eres adulto.\")\n"
      ],
      "metadata": {
        "colab": {
          "base_uri": "https://localhost:8080/"
        },
        "id": "x9SRCroaKgjg",
        "outputId": "ebccdb27-c241-449b-a72a-cef064684900"
      },
      "execution_count": null,
      "outputs": [
        {
          "output_type": "stream",
          "name": "stdout",
          "text": [
            "Eres adulto.\n"
          ]
        }
      ]
    },
    {
      "cell_type": "code",
      "source": [
        "\"\"\"\n",
        "Comparaciones\n",
        "Las condiciones en las sentencias condicionales suelen involucrar operadores de comparación:\n",
        "\n",
        "- == (igual a)\n",
        "- != (diferente de)\n",
        "- > (mayor que)\n",
        "- < (menor que)\n",
        "- >= (mayor o igual que)\n",
        "- <= (menor o igual que)\n",
        "\"\"\""
      ],
      "metadata": {
        "id": "auJVUdCVRrSq"
      },
      "execution_count": null,
      "outputs": []
    },
    {
      "cell_type": "code",
      "source": [
        "edad = 25\n",
        "tiene_identificacion = True\n",
        "\n",
        "if edad >= 18 and tiene_identificacion:\n",
        "    print(\"Puedes entrar.\")\n",
        "else:\n",
        "    print(\"No puedes entrar.\")\n"
      ],
      "metadata": {
        "colab": {
          "base_uri": "https://localhost:8080/"
        },
        "id": "FDJre-tiSEsd",
        "outputId": "b71b7d6e-da29-4798-8cb5-091a5ea54353"
      },
      "execution_count": 2,
      "outputs": [
        {
          "output_type": "stream",
          "name": "stdout",
          "text": [
            "Puedes entrar.\n"
          ]
        }
      ]
    },
    {
      "cell_type": "code",
      "source": [
        "#Funciones anidadas\n",
        "nota = 85\n",
        "\n",
        "if nota >= 60:\n",
        "    if nota >= 90:\n",
        "        print(\"Calificación: A\")\n",
        "    elif nota >= 80:\n",
        "        print(\"Calificación: B\")\n",
        "    else:\n",
        "        print(\"Calificación: C\")\n",
        "else:\n",
        "    print(\"No aprobado.\")\n"
      ],
      "metadata": {
        "colab": {
          "base_uri": "https://localhost:8080/"
        },
        "id": "4YZitQwQSS49",
        "outputId": "7d4bb233-d97f-4708-93fe-d3d7760d5747"
      },
      "execution_count": null,
      "outputs": [
        {
          "output_type": "stream",
          "name": "stdout",
          "text": [
            "Calificación: B\n"
          ]
        }
      ]
    },
    {
      "cell_type": "code",
      "source": [
        "frutas = [\"manzana\", \"plátano\", \"naranja\"]\n",
        "\n",
        "if \"manzana\" in frutas:\n",
        "    print(\"La lista contiene manzana.\")\n",
        "else:\n",
        "    print(\"La lista no contiene manzana.\")\n"
      ],
      "metadata": {
        "colab": {
          "base_uri": "https://localhost:8080/"
        },
        "id": "zvtRW1-jSpFt",
        "outputId": "ba312ae1-fdf2-48fa-dbe6-2650de063e3a"
      },
      "execution_count": null,
      "outputs": [
        {
          "output_type": "stream",
          "name": "stdout",
          "text": [
            "La lista contiene manzana.\n"
          ]
        }
      ]
    },
    {
      "cell_type": "code",
      "source": [
        "calificacion = float(input(\"Introduce la calificación: \"))\n",
        "\n",
        "if calificacion >= 60:\n",
        "    print(\"¡Felicidades, has aprobado!\")\n",
        "else:\n",
        "    print(\"Lo siento, no has aprobado.\")"
      ],
      "metadata": {
        "colab": {
          "base_uri": "https://localhost:8080/"
        },
        "id": "OlezoxKATMwY",
        "outputId": "5d4b7bbd-1689-4fbc-ae7d-f0771c148fe0"
      },
      "execution_count": null,
      "outputs": [
        {
          "output_type": "stream",
          "name": "stdout",
          "text": [
            "Introduce la calificación: 70\n",
            "¡Felicidades, has aprobado!\n"
          ]
        }
      ]
    },
    {
      "cell_type": "markdown",
      "source": [
        "**Ejercicios de las Condicionales**"
      ],
      "metadata": {
        "id": "5h-gZF8ATcOB"
      }
    },
    {
      "cell_type": "markdown",
      "source": [
        "Crea un programa que verifique si una persona es mayor de edad. Una persona es considerada mayor de edad si tiene 18 años o más."
      ],
      "metadata": {
        "id": "r2ud9YTNTruo"
      }
    },
    {
      "cell_type": "code",
      "source": [
        "edad = int(input(\"Ingrese su edad: \"))\n",
        "\n",
        "if edad >= 18:\n",
        "    print(\"Eres mayor de edad.\")\n",
        "else:\n",
        "    print(\"Eres menor de edad.\")"
      ],
      "metadata": {
        "id": "D49eSrA1TXR4",
        "colab": {
          "base_uri": "https://localhost:8080/"
        },
        "outputId": "1879e1c0-ce35-4d59-acee-1441f890bad2"
      },
      "execution_count": 3,
      "outputs": [
        {
          "output_type": "stream",
          "name": "stdout",
          "text": [
            "Ingrese su edad: 15\n",
            "Eres menor de edad.\n"
          ]
        }
      ]
    },
    {
      "cell_type": "markdown",
      "source": [
        "Escribe un programa que verifique si un número ingresado por el usuario es par o impar."
      ],
      "metadata": {
        "id": "uJMW1D9CT3Xx"
      }
    },
    {
      "cell_type": "code",
      "source": [
        "numero = int(input(\"Ingrese un número: \"))\n",
        "\n",
        "if numero % 2 == 0:\n",
        "    print(\"El número\", numero, \"es par.\")\n",
        "else:\n",
        "    print(\"El número\", numero, \"es impar.\")"
      ],
      "metadata": {
        "id": "rqknvYQEUBwP",
        "colab": {
          "base_uri": "https://localhost:8080/"
        },
        "outputId": "7bff3d52-4d7c-4cb0-e5b8-561a669c491a"
      },
      "execution_count": 5,
      "outputs": [
        {
          "output_type": "stream",
          "name": "stdout",
          "text": [
            "Ingrese un número: 20\n",
            "El número 20 es par.\n"
          ]
        }
      ]
    },
    {
      "cell_type": "markdown",
      "source": [
        "Escribe un programa que clasifique la edad en diferentes categorías: Niño (0-12 años), Adolescente (13-17 años), Adulto (18-64 años) y Anciano (65 años o más)."
      ],
      "metadata": {
        "id": "N4oxHzZBTstC"
      }
    },
    {
      "cell_type": "code",
      "source": [
        "edad = int(input(\"Ingrese su edad: \"))\n",
        "\n",
        "if edad >= 0 and edad <= 12:\n",
        "    print(\"Eres un niño.\")\n",
        "elif edad >= 13 and edad <= 17:\n",
        "    print(\"Eres un adolescente.\")\n",
        "elif edad >= 18 and edad <= 64:\n",
        "    print(\"Eres un adulto.\")\n",
        "else:\n",
        "    print(\"Eres un anciano.\")"
      ],
      "metadata": {
        "id": "YE0Xn8sRUIPt",
        "colab": {
          "base_uri": "https://localhost:8080/"
        },
        "outputId": "74afa9fb-cfe5-4f03-9f74-1cfc4d137cf0"
      },
      "execution_count": 6,
      "outputs": [
        {
          "output_type": "stream",
          "name": "stdout",
          "text": [
            "Ingrese su edad: 43\n",
            "Eres un adulto.\n"
          ]
        }
      ]
    },
    {
      "cell_type": "markdown",
      "source": [
        "Crea un programa que lea dos números y determine cuál es mayor, cuál es menor o si ambos son iguales."
      ],
      "metadata": {
        "id": "cfuLA0k9UN3G"
      }
    },
    {
      "cell_type": "code",
      "source": [
        "numero1 = float(input(\"Ingrese el primer número: \"))\n",
        "numero2 = float(input(\"Ingrese el segundo número: \"))\n",
        "\n",
        "if numero1 > numero2:\n",
        "    print(numero1, \"es mayor que\", numero2)\n",
        "elif numero1 < numero2:\n",
        "    print(numero2, \"es mayor que\", numero1)\n",
        "else:\n",
        "    print(\"Ambos números son iguales.\")"
      ],
      "metadata": {
        "id": "wRuhzid_UNZ0",
        "colab": {
          "base_uri": "https://localhost:8080/"
        },
        "outputId": "e5d20ed8-fb3b-459a-bc3d-820ab6871655"
      },
      "execution_count": 8,
      "outputs": [
        {
          "output_type": "stream",
          "name": "stdout",
          "text": [
            "Ingrese el primer número: 5\n",
            "Ingrese el segundo número: 4\n",
            "5.0 es mayor que 4.0\n"
          ]
        }
      ]
    },
    {
      "cell_type": "markdown",
      "source": [
        "Escribe un programa que pida al usuario una contraseña y verifique si es correcta. La contraseña correcta es \"secreta123\"."
      ],
      "metadata": {
        "id": "2BkfeUqDUk2V"
      }
    },
    {
      "cell_type": "code",
      "source": [
        "contrasena_correcta = \"secreta123\"\n",
        "contrasena_ingresada = input(\"Ingrese la contraseña: \")\n",
        "\n",
        "if contrasena_ingresada == contrasena_correcta:\n",
        "    print(\"¡Contraseña correcta! Acceso concedido.\")\n",
        "else:\n",
        "    print(\"Contraseña incorrecta. Acceso denegado.\")"
      ],
      "metadata": {
        "id": "FdGvhjEUUuo3",
        "colab": {
          "base_uri": "https://localhost:8080/"
        },
        "outputId": "907e87e5-f58d-4d6f-d62b-0714f35852b8"
      },
      "execution_count": 10,
      "outputs": [
        {
          "output_type": "stream",
          "name": "stdout",
          "text": [
            "Ingrese la contraseña: secreta123\n",
            "¡Contraseña correcta! Acceso concedido.\n"
          ]
        }
      ]
    },
    {
      "cell_type": "markdown",
      "source": [
        "Crea un programa que determine si un número ingresado por el usuario está en el rango de 1 a 100 (inclusive) y si es divisible por 5."
      ],
      "metadata": {
        "id": "_F3T6QwCUwhX"
      }
    },
    {
      "cell_type": "code",
      "source": [
        "numero = int(input(\"Ingrese un número: \"))\n",
        "\n",
        "if 1 <= numero <= 100:\n",
        "    if numero % 5 == 0:\n",
        "        print(f\"El número {numero} está en el rango de 1 a 100 y es divisible por 5.\")\n",
        "    else:\n",
        "        print(f\"El número {numero} está en el rango de 1 a 100 pero no es divisible por 5.\")\n",
        "else:\n",
        "    print(f\"El número {numero} no está en el rango de 1 a 100.\")"
      ],
      "metadata": {
        "id": "PCsroYINU4Un",
        "colab": {
          "base_uri": "https://localhost:8080/"
        },
        "outputId": "aae3813c-a0b6-4ffb-f276-b75285bfd8f1"
      },
      "execution_count": 12,
      "outputs": [
        {
          "output_type": "stream",
          "name": "stdout",
          "text": [
            "Ingrese un número: 78\n",
            "El número 78 está en el rango de 1 a 100 pero no es divisible por 5.\n"
          ]
        }
      ]
    },
    {
      "cell_type": "markdown",
      "source": [
        "# **FUNCIONES**\n",
        "Las funciones en Python son bloques de código reutilizables que realizan una tarea específica. Una función puede tomar entradas, realizar operaciones con esas entradas y luego devolver un resultado. Las funciones permiten estructurar el código de manera más clara, reducir la redundancia y facilitar el mantenimiento del código.\n",
        "\n",
        "**Componentes de una función en Python**\n",
        "**Definición de la función:**\n",
        "\n",
        "Se utiliza la palabra clave def para definir una función.\n",
        "Después de def, se escribe el nombre de la función.\n",
        "A continuación, entre paréntesis, se especifican los parámetros (si los hay) que la función recibirá.\n",
        "\n",
        "\n",
        "Finalmente, se coloca dos puntos (:) y se escribe el bloque de código que pertenece a la función.\n",
        "\n",
        "\n",
        "**Parámetros:**\n",
        "\n",
        "Los parámetros son variables que la función puede recibir como entrada.\n",
        "Puedes definir una función sin parámetros, con uno o más parámetros, y también puedes asignar valores predeterminados a los parámetros.\n",
        "Cuerpo de la función:\n",
        "\n",
        "El cuerpo de la función es el bloque de código que se ejecuta cuando se llama a la función.\n",
        "El código del cuerpo de la función debe estar indentado.\n",
        "\n",
        "**Valor de retorno:**\n",
        "\n",
        "Utilizando la palabra clave return, puedes hacer que la función devuelva un valor después de ejecutar su tarea.\n",
        "Si no se usa return, la función devolverá None por defecto."
      ],
      "metadata": {
        "id": "BlAXmUybK1jr"
      }
    },
    {
      "cell_type": "code",
      "source": [
        "def saludo(nombre):\n",
        "    \"\"\"\n",
        "    Esta función recibe un nombre y devuelve un saludo personalizado.\n",
        "    \"\"\"\n",
        "    return f\"Hola, {nombre}!\"\n",
        "\n",
        "# Llamada a la función\n",
        "mensaje = saludo(\"Juan\")\n",
        "print(mensaje)\n"
      ],
      "metadata": {
        "id": "7ry7LG6vOCTN",
        "colab": {
          "base_uri": "https://localhost:8080/"
        },
        "outputId": "5ceb35c9-69e7-443a-d784-316dbae73ede"
      },
      "execution_count": 13,
      "outputs": [
        {
          "output_type": "stream",
          "name": "stdout",
          "text": [
            "Hola, Juan!\n"
          ]
        }
      ]
    },
    {
      "cell_type": "markdown",
      "source": [
        "Tipos de funciones en Python"
      ],
      "metadata": {
        "id": "ViZV4IrcW11Y"
      }
    },
    {
      "cell_type": "code",
      "source": [
        "def saludar():\n",
        "    print(\"¡Hola a todos!\")\n",
        "\n",
        "saludar()\n"
      ],
      "metadata": {
        "colab": {
          "base_uri": "https://localhost:8080/"
        },
        "id": "6Ztxr_9SWw7B",
        "outputId": "640888d6-9dd5-4906-f081-6b85621fcf6c"
      },
      "execution_count": null,
      "outputs": [
        {
          "output_type": "stream",
          "name": "stdout",
          "text": [
            "¡Hola a todos!\n"
          ]
        }
      ]
    },
    {
      "cell_type": "code",
      "source": [
        "def sumar(a, b):\n",
        "    return a + b\n",
        "\n",
        "resultado = sumar(3, 5)\n",
        "print(resultado)  # 8\n"
      ],
      "metadata": {
        "colab": {
          "base_uri": "https://localhost:8080/"
        },
        "id": "EIyzrweQW8fU",
        "outputId": "64a93e59-27db-49a4-a536-be6882e7b9e5"
      },
      "execution_count": null,
      "outputs": [
        {
          "output_type": "stream",
          "name": "stdout",
          "text": [
            "8\n"
          ]
        }
      ]
    },
    {
      "cell_type": "code",
      "source": [
        "def presentar(nombre, edad=30):\n",
        "    return f\"{nombre} tiene {edad} años.\"\n",
        "\n",
        "print(presentar(\"Carlos\"))  # Carlos tiene 30 años.\n",
        "print(presentar(\"Ana\", 25))  # Ana tiene 25 años.\n"
      ],
      "metadata": {
        "colab": {
          "base_uri": "https://localhost:8080/"
        },
        "id": "akUPxomuXEfh",
        "outputId": "60aae0c0-d1cd-486d-a5cf-16ee257f4003"
      },
      "execution_count": 16,
      "outputs": [
        {
          "output_type": "stream",
          "name": "stdout",
          "text": [
            "Carlos tiene 30 años.\n",
            "Ana tiene 25 años.\n"
          ]
        }
      ]
    },
    {
      "cell_type": "code",
      "source": [
        "def operaciones(a, b):\n",
        "    suma = a + b\n",
        "    resta = a - b\n",
        "    return suma, resta\n",
        "\n",
        "resultado_suma, resultado_resta = operaciones(10, 5)\n",
        "print(f\"Suma: {resultado_suma}, Resta: {resultado_resta}\")\n"
      ],
      "metadata": {
        "colab": {
          "base_uri": "https://localhost:8080/"
        },
        "id": "hDx1M_XlXMy4",
        "outputId": "f12c4022-7d42-4a02-95bf-5986dcac08af"
      },
      "execution_count": 17,
      "outputs": [
        {
          "output_type": "stream",
          "name": "stdout",
          "text": [
            "Suma: 15, Resta: 5\n"
          ]
        }
      ]
    },
    {
      "cell_type": "markdown",
      "source": [
        "**Ejercicios con funciones**"
      ],
      "metadata": {
        "id": "KKAJdQ18YjZ6"
      }
    },
    {
      "cell_type": "markdown",
      "source": [
        "Calculadora de prestamo:\n",
        "\n",
        "Genere una funcion que al ingresar dos parametros por el usuario defina si se le aprueba el prestamo o no:\n",
        "\n",
        "Si el usuario tiene una edad mayor o igual a 29 años y su estado civil es soltero, entonces, el prestamos sera aprobado, de lo contrario sera negado"
      ],
      "metadata": {
        "id": "G5gRdenRehGl"
      }
    },
    {
      "cell_type": "code",
      "source": [
        "#Definimos la funcion\n",
        "def aprobar_prestamo(edad, estado_civil):\n",
        "\n",
        "  if edad >= 29 and estado_civil.lower() == \"soltero\":\n",
        "    return True\n",
        "  else:\n",
        "    return False\n",
        "\n",
        "#Solicitamos los datos al usuario\n",
        "edad = int(input(\"Ingrese su edad: \"))\n",
        "estado_civil = input(\"Ingrese su estado civil (soltero, casado, etc.): \")\n",
        "\n",
        "#Evaluamos la función\n",
        "resultado = aprobar_prestamo(edad, estado_civil)\n",
        "\n",
        "#Entregamos los resultados\n",
        "if resultado:\n",
        "  print(\"¡Felicitaciones! Su préstamo ha sido aprobado.\")\n",
        "else:\n",
        "  print(\"Lo sentimos, su préstamo no ha sido aprobado.\")"
      ],
      "metadata": {
        "colab": {
          "base_uri": "https://localhost:8080/"
        },
        "id": "Tng4fXF5e_wi",
        "outputId": "484f84ef-f427-4f0d-b22c-5564bfa05b85"
      },
      "execution_count": 32,
      "outputs": [
        {
          "output_type": "stream",
          "name": "stdout",
          "text": [
            "Ingrese su edad: 80\n",
            "Ingrese su estado civil (soltero, casado, etc.): SOLTERO\n",
            "¡Felicitaciones! Su préstamo ha sido aprobado.\n"
          ]
        }
      ]
    },
    {
      "cell_type": "markdown",
      "source": [
        "Descripción: Escribe una función que reciba la edad de una persona como parámetro y determine si la persona es mayor de edad (18 años o más) o menor de edad."
      ],
      "metadata": {
        "id": "OuuvS5WNYxNB"
      }
    },
    {
      "cell_type": "code",
      "source": [
        "#Definimos la funcion\n",
        "def mayor_de_edad(edad):\n",
        "  if edad >= 18:\n",
        "    return True\n",
        "  else:\n",
        "    return False\n",
        "#Solicitamos los datos al usuario\n",
        "edad_persona = int(input(\"Ingrese la edad de la persona: \"))\n",
        "if mayor_de_edad(edad_persona):\n",
        "  print(\"La persona es mayor de edad.\")\n",
        "else:\n",
        "  print(\"La persona es menor de edad.\")"
      ],
      "metadata": {
        "colab": {
          "base_uri": "https://localhost:8080/"
        },
        "id": "pbOINNswY1dU",
        "outputId": "37bf3b1d-abae-4d0e-ca79-41340d0f2b76"
      },
      "execution_count": 33,
      "outputs": [
        {
          "output_type": "stream",
          "name": "stdout",
          "text": [
            "Ingrese la edad de la persona: 2\n",
            "La persona es menor de edad.\n"
          ]
        }
      ]
    },
    {
      "cell_type": "markdown",
      "source": [
        "Descripción: Crea una función que reciba una nota (de 0 a 100) y clasifique la nota en \"Excelente\" (90-100), \"Bueno\" (70-89), \"Suficiente\" (50-69), o \"Insuficiente\" (menos de 50)."
      ],
      "metadata": {
        "id": "zqZPeceGY9OQ"
      }
    },
    {
      "cell_type": "code",
      "source": [
        "#Definimos la funcion\n",
        "def clasificar_nota(nota):\n",
        "  if nota >= 90:\n",
        "    return \"Excelente\"\n",
        "  elif nota >= 70:\n",
        "    return \"Bueno\"\n",
        "  elif nota >= 50:\n",
        "    return \"Suficiente\"\n",
        "  else:\n",
        "    return \"Insuficiente\"\n",
        "\n",
        "#Solicitamos los datos al usuario\n",
        "nota_alumno = float(input(\"Ingrese la nota del alumno: \"))\n",
        "\n",
        "#Evaluamos la función\n",
        "clasificacion = clasificar_nota(nota_alumno)\n",
        "\n",
        "#Entregamos los resultados\n",
        "print(f\"La nota {nota_alumno} es considerada: {clasificacion}\")"
      ],
      "metadata": {
        "id": "MnMHXB2pZD6Y",
        "colab": {
          "base_uri": "https://localhost:8080/"
        },
        "outputId": "f861133b-63a0-4f99-eeb8-82cfbc508619"
      },
      "execution_count": 34,
      "outputs": [
        {
          "output_type": "stream",
          "name": "stdout",
          "text": [
            "Ingrese la nota del alumno: 60\n",
            "La nota 60.0 es considerada: Suficiente\n"
          ]
        }
      ]
    },
    {
      "cell_type": "markdown",
      "source": [
        "Descripción: Escribe una función que tome una contraseña y la verifique contra una contraseña predeterminada (\"secreta123\"). La función debe devolver si la contraseña es correcta o incorrecta."
      ],
      "metadata": {
        "id": "SssnepBSZEUb"
      }
    },
    {
      "cell_type": "code",
      "source": [
        "#Definimos la funcion\n",
        "def verificar_contrasena(contrasena_ingresada):\n",
        "  contrasena_correcta = \"secreta123\"\n",
        "  if contrasena_ingresada == contrasena_correcta:\n",
        "    return True\n",
        "  else:\n",
        "    return False\n",
        "\n",
        "#Solicitamos los datos al usuario\n",
        "contrasena = input(\"Ingrese la contraseña: \")\n",
        "\n",
        "#Evaluamos la función\n",
        "if verificar_contrasena(contrasena):\n",
        "\n",
        "#Entregamos los resultados\n",
        "  print(\"¡Contraseña correcta!\")\n",
        "else:\n",
        "  print(\"Contraseña incorrecta.\")"
      ],
      "metadata": {
        "id": "h0exC877ZPmq",
        "colab": {
          "base_uri": "https://localhost:8080/"
        },
        "outputId": "79ee78d6-b9c8-4a43-b5f8-31ba6324c0e8"
      },
      "execution_count": 36,
      "outputs": [
        {
          "output_type": "stream",
          "name": "stdout",
          "text": [
            "Ingrese la contraseña: contra\n",
            "Contraseña incorrecta.\n"
          ]
        }
      ]
    },
    {
      "cell_type": "markdown",
      "source": [
        "# **MANEJO DE ERRORES**\n",
        "En Python, el manejo de errores se realiza utilizando el bloque try-except. Este bloque permite capturar y manejar excepciones (errores) que puedan ocurrir durante la ejecución de tu código. Aquí te muestro cómo funciona:\n",
        "\n",
        "\n",
        "**Tipos de Errores:**\n",
        "\n",
        "- SyntaxError: Error de sintaxis en el código.\n",
        "- TypeError: Operación o función aplicada a un tipo inapropiado.\n",
        "- ValueError: Argumento con el tipo correcto pero valor inapropiado.\n",
        "- IndexError: Índice fuera del rango de una lista o secuencia.\n",
        "- KeyError: Clave que no existe en un diccionario.\n",
        "- FileNotFoundError: Archivo no encontrado.\n",
        "- ZeroDivisionError: División por cero.\n",
        "- IOError: Problema de entrada/salida al leer o escribir archivos.\n",
        "- AttributeError: Atributo que no existe en un objeto.\n",
        "- ImportError: Módulo no encontrado al intentar importarlo.\n",
        "- MemoryError: Agotamiento de memoria.\n",
        "- OverflowError: Operación que excede el rango numérico."
      ],
      "metadata": {
        "id": "OtgWc_X6OQH-"
      }
    },
    {
      "cell_type": "code",
      "source": [
        "try:\n",
        "    # Código que podría causar una excepción\n",
        "    resultado = 10 / 0\n",
        "except ZeroDivisionError:\n",
        "    # Código que se ejecuta si ocurre una excepción ZeroDivisionError\n",
        "    print(\"No se puede dividir por cero.\")\n"
      ],
      "metadata": {
        "id": "wJp99b8VPJeT",
        "colab": {
          "base_uri": "https://localhost:8080/"
        },
        "outputId": "9640f120-8f5f-44dd-b5cf-5c8141424b49"
      },
      "execution_count": null,
      "outputs": [
        {
          "output_type": "stream",
          "name": "stdout",
          "text": [
            "No se puede dividir por cero.\n"
          ]
        }
      ]
    },
    {
      "cell_type": "markdown",
      "source": [
        "Manejo de Múltiples Excepciones"
      ],
      "metadata": {
        "id": "-oxBYwdvkIgB"
      }
    },
    {
      "cell_type": "code",
      "source": [
        "try:\n",
        "    # Código que podría causar una excepción\n",
        "    numero = int(\"abc\")\n",
        "except ValueError:\n",
        "    print(\"Se produjo un error de valor.\")\n",
        "except ZeroDivisionError:\n",
        "    print(\"No se puede dividir por cero.\")\n"
      ],
      "metadata": {
        "colab": {
          "base_uri": "https://localhost:8080/"
        },
        "id": "sDEz2E0ZkNnZ",
        "outputId": "e24f6e39-cd06-4af0-cb17-07b00ae1dad1"
      },
      "execution_count": null,
      "outputs": [
        {
          "output_type": "stream",
          "name": "stdout",
          "text": [
            "Se produjo un error de valor.\n"
          ]
        }
      ]
    },
    {
      "cell_type": "markdown",
      "source": [
        "Capturar Excepciones Generales"
      ],
      "metadata": {
        "id": "H77LI-7gkbYy"
      }
    },
    {
      "cell_type": "code",
      "source": [
        "try:\n",
        "    # Código que podría causar una excepción\n",
        "    resultado = 10 / 0\n",
        "except Exception as e:\n",
        "    # 'e' contiene información sobre la excepción\n",
        "    print(f\"Se produjo una excepción: {e}\")\n"
      ],
      "metadata": {
        "colab": {
          "base_uri": "https://localhost:8080/"
        },
        "id": "ggsyvEnUkccP",
        "outputId": "310f1a0f-68be-4b4a-dd58-e078b07d1112"
      },
      "execution_count": null,
      "outputs": [
        {
          "output_type": "stream",
          "name": "stdout",
          "text": [
            "Se produjo una excepción: division by zero\n"
          ]
        }
      ]
    },
    {
      "cell_type": "markdown",
      "source": [
        "Bloque else y finally"
      ],
      "metadata": {
        "id": "IIejXtZ8k0LO"
      }
    },
    {
      "cell_type": "code",
      "source": [
        "try:\n",
        "    resultado = 10 / 2\n",
        "except ZeroDivisionError:\n",
        "    print(\"No se puede dividir por cero.\")\n",
        "else:\n",
        "    print(\"La división fue exitosa.\")\n",
        "finally:\n",
        "    print(\"Este bloque siempre se ejecuta.\")\n"
      ],
      "metadata": {
        "colab": {
          "base_uri": "https://localhost:8080/"
        },
        "id": "BfnwbZ1Hkis3",
        "outputId": "f311a0ef-630f-4f62-d59c-a6f4d4814d7c"
      },
      "execution_count": null,
      "outputs": [
        {
          "output_type": "stream",
          "name": "stdout",
          "text": [
            "La división fue exitosa.\n",
            "Este bloque siempre se ejecuta.\n"
          ]
        }
      ]
    },
    {
      "cell_type": "markdown",
      "source": [
        "Levantar Excepciones"
      ],
      "metadata": {
        "id": "qRlqQmCglC5c"
      }
    },
    {
      "cell_type": "code",
      "source": [
        "def divide(a, b):\n",
        "    if b == 0:\n",
        "        raise ValueError(\"El divisor no puede ser cero.\")\n",
        "    return a / b\n",
        "\n",
        "try:\n",
        "    resultado = divide(10, 0)\n",
        "except ValueError as e:\n",
        "    print(f\"Error: {e}\")\n"
      ],
      "metadata": {
        "colab": {
          "base_uri": "https://localhost:8080/"
        },
        "id": "TOvA6cablCUM",
        "outputId": "9d2994d6-a68a-47a9-aa09-818aa844dbac"
      },
      "execution_count": null,
      "outputs": [
        {
          "output_type": "stream",
          "name": "stdout",
          "text": [
            "Error: El divisor no puede ser cero.\n"
          ]
        }
      ]
    },
    {
      "cell_type": "markdown",
      "source": [
        "**Ejercicios**\n",
        "\n",
        "Escribe una función dividir que reciba dos números como parámetros y devuelva el resultado de su división. Maneja las siguientes excepciones:\n",
        "\n",
        "ZeroDivisionError: Cuando el divisor es cero.\n",
        "TypeError: Cuando los parámetros no son números."
      ],
      "metadata": {
        "id": "YQPhiT4znHi0"
      }
    },
    {
      "cell_type": "code",
      "source": [],
      "metadata": {
        "id": "H5PxkD1znJ2u"
      },
      "execution_count": null,
      "outputs": []
    },
    {
      "cell_type": "markdown",
      "source": [
        "Escribe una función convertir_a_entero que intente convertir una cadena de texto en un entero. Maneja las siguientes excepciones:\n",
        "\n",
        "ValueError: Cuando la cadena no puede convertirse a un entero."
      ],
      "metadata": {
        "id": "Q0OCbGTHnNtx"
      }
    },
    {
      "cell_type": "code",
      "source": [],
      "metadata": {
        "id": "tpSFFojLnSOV"
      },
      "execution_count": null,
      "outputs": []
    },
    {
      "cell_type": "markdown",
      "source": [
        "Escribe una función acceder_elemento que reciba una lista y un índice, y devuelva el elemento en ese índice. Maneja las siguientes excepciones:\n",
        "\n",
        "IndexError: Cuando el índice está fuera del rango de la lista.\n",
        "TypeError: Cuando el primer parámetro no es una lista o el segundo no es un número entero."
      ],
      "metadata": {
        "id": "icfZB2pCnSyl"
      }
    },
    {
      "cell_type": "code",
      "source": [],
      "metadata": {
        "id": "u4TBc1VanVXl"
      },
      "execution_count": null,
      "outputs": []
    },
    {
      "cell_type": "markdown",
      "source": [
        "Escribe una función leer_archivo que intente leer el contenido de un archivo. Maneja las siguientes excepciones:\n",
        "\n",
        "FileNotFoundError: Cuando el archivo no existe.\n",
        "IOError: Cuando ocurre un error de entrada/salida."
      ],
      "metadata": {
        "id": "Ze5W7A7lniqV"
      }
    },
    {
      "cell_type": "code",
      "source": [],
      "metadata": {
        "id": "pLFn6wQzni_N"
      },
      "execution_count": null,
      "outputs": []
    },
    {
      "cell_type": "markdown",
      "source": [
        "Escribe una función validar_usuario que reciba un nombre de usuario y una edad. Asegúrate de que el nombre de usuario sea una cadena y la edad un número entero positivo. Maneja las siguientes excepciones:\n",
        "\n",
        "ValueError: Cuando la edad no es un número entero positivo.\n",
        "TypeError: Cuando el nombre de usuario no es una cadena."
      ],
      "metadata": {
        "id": "xVW-phXBnmxS"
      }
    },
    {
      "cell_type": "code",
      "source": [],
      "metadata": {
        "id": "0pngYPvknmVD"
      },
      "execution_count": null,
      "outputs": []
    }
  ]
}